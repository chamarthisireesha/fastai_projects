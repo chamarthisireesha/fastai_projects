{
 "cells": [
  {
   "cell_type": "code",
   "execution_count": 1,
   "metadata": {},
   "outputs": [],
   "source": [
    "%reload_ext autoreload\n",
    "%autoreload 2\n",
    "%matplotlib inline"
   ]
  },
  {
   "cell_type": "code",
   "execution_count": 2,
   "metadata": {},
   "outputs": [],
   "source": [
    "from fastai.vision import *\n",
    "from fastai.metrics import error_rate,accuracy"
   ]
  },
  {
   "cell_type": "code",
   "execution_count": null,
   "metadata": {},
   "outputs": [],
   "source": []
  },
  {
   "cell_type": "code",
   "execution_count": null,
   "metadata": {},
   "outputs": [],
   "source": []
  },
  {
   "cell_type": "code",
   "execution_count": 3,
   "metadata": {},
   "outputs": [],
   "source": [
    "path = untar_data(URLs.CALTECH_101)"
   ]
  },
  {
   "cell_type": "code",
   "execution_count": 4,
   "metadata": {},
   "outputs": [],
   "source": [
    "path = Config.data_path()/'101_ObjectCategories'"
   ]
  },
  {
   "cell_type": "code",
   "execution_count": 5,
   "metadata": {},
   "outputs": [
    {
     "data": {
      "text/plain": [
       "[PosixPath('/home/jupyter/.fastai/data/101_ObjectCategories/pigeon'),\n",
       " PosixPath('/home/jupyter/.fastai/data/101_ObjectCategories/lamp'),\n",
       " PosixPath('/home/jupyter/.fastai/data/101_ObjectCategories/crocodile'),\n",
       " PosixPath('/home/jupyter/.fastai/data/101_ObjectCategories/pagoda'),\n",
       " PosixPath('/home/jupyter/.fastai/data/101_ObjectCategories/mandolin'),\n",
       " PosixPath('/home/jupyter/.fastai/data/101_ObjectCategories/ibis'),\n",
       " PosixPath('/home/jupyter/.fastai/data/101_ObjectCategories/barrel'),\n",
       " PosixPath('/home/jupyter/.fastai/data/101_ObjectCategories/mayfly'),\n",
       " PosixPath('/home/jupyter/.fastai/data/101_ObjectCategories/rooster'),\n",
       " PosixPath('/home/jupyter/.fastai/data/101_ObjectCategories/octopus'),\n",
       " PosixPath('/home/jupyter/.fastai/data/101_ObjectCategories/ant'),\n",
       " PosixPath('/home/jupyter/.fastai/data/101_ObjectCategories/elephant'),\n",
       " PosixPath('/home/jupyter/.fastai/data/101_ObjectCategories/windsor_chair'),\n",
       " PosixPath('/home/jupyter/.fastai/data/101_ObjectCategories/saxophone'),\n",
       " PosixPath('/home/jupyter/.fastai/data/101_ObjectCategories/Faces_easy'),\n",
       " PosixPath('/home/jupyter/.fastai/data/101_ObjectCategories/laptop'),\n",
       " PosixPath('/home/jupyter/.fastai/data/101_ObjectCategories/buddha'),\n",
       " PosixPath('/home/jupyter/.fastai/data/101_ObjectCategories/crab'),\n",
       " PosixPath('/home/jupyter/.fastai/data/101_ObjectCategories/yin_yang'),\n",
       " PosixPath('/home/jupyter/.fastai/data/101_ObjectCategories/wrench'),\n",
       " PosixPath('/home/jupyter/.fastai/data/101_ObjectCategories/sunflower'),\n",
       " PosixPath('/home/jupyter/.fastai/data/101_ObjectCategories/watch'),\n",
       " PosixPath('/home/jupyter/.fastai/data/101_ObjectCategories/electric_guitar'),\n",
       " PosixPath('/home/jupyter/.fastai/data/101_ObjectCategories/wild_cat'),\n",
       " PosixPath('/home/jupyter/.fastai/data/101_ObjectCategories/metronome'),\n",
       " PosixPath('/home/jupyter/.fastai/data/101_ObjectCategories/camera'),\n",
       " PosixPath('/home/jupyter/.fastai/data/101_ObjectCategories/garfield'),\n",
       " PosixPath('/home/jupyter/.fastai/data/101_ObjectCategories/cup'),\n",
       " PosixPath('/home/jupyter/.fastai/data/101_ObjectCategories/bass'),\n",
       " PosixPath('/home/jupyter/.fastai/data/101_ObjectCategories/gerenuk'),\n",
       " PosixPath('/home/jupyter/.fastai/data/101_ObjectCategories/car_side'),\n",
       " PosixPath('/home/jupyter/.fastai/data/101_ObjectCategories/flamingo'),\n",
       " PosixPath('/home/jupyter/.fastai/data/101_ObjectCategories/ewer'),\n",
       " PosixPath('/home/jupyter/.fastai/data/101_ObjectCategories/dolphin'),\n",
       " PosixPath('/home/jupyter/.fastai/data/101_ObjectCategories/snoopy'),\n",
       " PosixPath('/home/jupyter/.fastai/data/101_ObjectCategories/BACKGROUND_Google'),\n",
       " PosixPath('/home/jupyter/.fastai/data/101_ObjectCategories/Leopards'),\n",
       " PosixPath('/home/jupyter/.fastai/data/101_ObjectCategories/menorah'),\n",
       " PosixPath('/home/jupyter/.fastai/data/101_ObjectCategories/schooner'),\n",
       " PosixPath('/home/jupyter/.fastai/data/101_ObjectCategories/tick'),\n",
       " PosixPath('/home/jupyter/.fastai/data/101_ObjectCategories/joshua_tree'),\n",
       " PosixPath('/home/jupyter/.fastai/data/101_ObjectCategories/airplanes'),\n",
       " PosixPath('/home/jupyter/.fastai/data/101_ObjectCategories/trilobite'),\n",
       " PosixPath('/home/jupyter/.fastai/data/101_ObjectCategories/llama'),\n",
       " PosixPath('/home/jupyter/.fastai/data/101_ObjectCategories/nautilus'),\n",
       " PosixPath('/home/jupyter/.fastai/data/101_ObjectCategories/pizza'),\n",
       " PosixPath('/home/jupyter/.fastai/data/101_ObjectCategories/lobster'),\n",
       " PosixPath('/home/jupyter/.fastai/data/101_ObjectCategories/flamingo_head'),\n",
       " PosixPath('/home/jupyter/.fastai/data/101_ObjectCategories/cellphone'),\n",
       " PosixPath('/home/jupyter/.fastai/data/101_ObjectCategories/brain'),\n",
       " PosixPath('/home/jupyter/.fastai/data/101_ObjectCategories/scissors'),\n",
       " PosixPath('/home/jupyter/.fastai/data/101_ObjectCategories/wheelchair'),\n",
       " PosixPath('/home/jupyter/.fastai/data/101_ObjectCategories/accordion'),\n",
       " PosixPath('/home/jupyter/.fastai/data/101_ObjectCategories/brontosaurus'),\n",
       " PosixPath('/home/jupyter/.fastai/data/101_ObjectCategories/chair'),\n",
       " PosixPath('/home/jupyter/.fastai/data/101_ObjectCategories/stapler'),\n",
       " PosixPath('/home/jupyter/.fastai/data/101_ObjectCategories/grand_piano'),\n",
       " PosixPath('/home/jupyter/.fastai/data/101_ObjectCategories/cougar_face'),\n",
       " PosixPath('/home/jupyter/.fastai/data/101_ObjectCategories/lotus'),\n",
       " PosixPath('/home/jupyter/.fastai/data/101_ObjectCategories/stegosaurus'),\n",
       " PosixPath('/home/jupyter/.fastai/data/101_ObjectCategories/dragonfly'),\n",
       " PosixPath('/home/jupyter/.fastai/data/101_ObjectCategories/strawberry'),\n",
       " PosixPath('/home/jupyter/.fastai/data/101_ObjectCategories/stop_sign'),\n",
       " PosixPath('/home/jupyter/.fastai/data/101_ObjectCategories/sea_horse'),\n",
       " PosixPath('/home/jupyter/.fastai/data/101_ObjectCategories/dollar_bill'),\n",
       " PosixPath('/home/jupyter/.fastai/data/101_ObjectCategories/Faces'),\n",
       " PosixPath('/home/jupyter/.fastai/data/101_ObjectCategories/panda'),\n",
       " PosixPath('/home/jupyter/.fastai/data/101_ObjectCategories/crocodile_head'),\n",
       " PosixPath('/home/jupyter/.fastai/data/101_ObjectCategories/headphone'),\n",
       " PosixPath('/home/jupyter/.fastai/data/101_ObjectCategories/hedgehog'),\n",
       " PosixPath('/home/jupyter/.fastai/data/101_ObjectCategories/anchor'),\n",
       " PosixPath('/home/jupyter/.fastai/data/101_ObjectCategories/soccer_ball'),\n",
       " PosixPath('/home/jupyter/.fastai/data/101_ObjectCategories/helicopter'),\n",
       " PosixPath('/home/jupyter/.fastai/data/101_ObjectCategories/umbrella'),\n",
       " PosixPath('/home/jupyter/.fastai/data/101_ObjectCategories/models'),\n",
       " PosixPath('/home/jupyter/.fastai/data/101_ObjectCategories/dalmatian'),\n",
       " PosixPath('/home/jupyter/.fastai/data/101_ObjectCategories/beaver'),\n",
       " PosixPath('/home/jupyter/.fastai/data/101_ObjectCategories/binocular'),\n",
       " PosixPath('/home/jupyter/.fastai/data/101_ObjectCategories/scorpion'),\n",
       " PosixPath('/home/jupyter/.fastai/data/101_ObjectCategories/minaret'),\n",
       " PosixPath('/home/jupyter/.fastai/data/101_ObjectCategories/emu'),\n",
       " PosixPath('/home/jupyter/.fastai/data/101_ObjectCategories/rhino'),\n",
       " PosixPath('/home/jupyter/.fastai/data/101_ObjectCategories/inline_skate'),\n",
       " PosixPath('/home/jupyter/.fastai/data/101_ObjectCategories/bonsai'),\n",
       " PosixPath('/home/jupyter/.fastai/data/101_ObjectCategories/Motorbikes'),\n",
       " PosixPath('/home/jupyter/.fastai/data/101_ObjectCategories/ferry'),\n",
       " PosixPath('/home/jupyter/.fastai/data/101_ObjectCategories/okapi'),\n",
       " PosixPath('/home/jupyter/.fastai/data/101_ObjectCategories/chandelier'),\n",
       " PosixPath('/home/jupyter/.fastai/data/101_ObjectCategories/hawksbill'),\n",
       " PosixPath('/home/jupyter/.fastai/data/101_ObjectCategories/butterfly'),\n",
       " PosixPath('/home/jupyter/.fastai/data/101_ObjectCategories/gramophone'),\n",
       " PosixPath('/home/jupyter/.fastai/data/101_ObjectCategories/water_lilly'),\n",
       " PosixPath('/home/jupyter/.fastai/data/101_ObjectCategories/starfish'),\n",
       " PosixPath('/home/jupyter/.fastai/data/101_ObjectCategories/crayfish'),\n",
       " PosixPath('/home/jupyter/.fastai/data/101_ObjectCategories/ketch'),\n",
       " PosixPath('/home/jupyter/.fastai/data/101_ObjectCategories/cannon'),\n",
       " PosixPath('/home/jupyter/.fastai/data/101_ObjectCategories/ceiling_fan'),\n",
       " PosixPath('/home/jupyter/.fastai/data/101_ObjectCategories/pyramid'),\n",
       " PosixPath('/home/jupyter/.fastai/data/101_ObjectCategories/euphonium'),\n",
       " PosixPath('/home/jupyter/.fastai/data/101_ObjectCategories/platypus'),\n",
       " PosixPath('/home/jupyter/.fastai/data/101_ObjectCategories/kangaroo'),\n",
       " PosixPath('/home/jupyter/.fastai/data/101_ObjectCategories/revolver'),\n",
       " PosixPath('/home/jupyter/.fastai/data/101_ObjectCategories/cougar_body')]"
      ]
     },
     "execution_count": 5,
     "metadata": {},
     "output_type": "execute_result"
    }
   ],
   "source": [
    "path.ls()"
   ]
  },
  {
   "cell_type": "code",
   "execution_count": 7,
   "metadata": {},
   "outputs": [],
   "source": [
    "np.random.seed(2)"
   ]
  },
  {
   "cell_type": "markdown",
   "metadata": {},
   "source": [
    "Use all the data as training with valid_pact"
   ]
  },
  {
   "cell_type": "code",
   "execution_count": 8,
   "metadata": {},
   "outputs": [],
   "source": [
    "data = ImageDataBunch.from_folder(path,train='.',ds_tfms=get_transforms(),size=26,valid_pct=0.2).normalize(imagenet_stats)"
   ]
  },
  {
   "cell_type": "code",
   "execution_count": 9,
   "metadata": {},
   "outputs": [
    {
     "data": {
      "image/png": "[encoded data removed]",
      "text/plain": [
       "<Figure size 360x360 with 9 Axes>"
      ]
     },
     "metadata": {
      "needs_background": "light"
     },
     "output_type": "display_data"
    }
   ],
   "source": [
    "data.show_batch(rows=3,figsize=(5,5))"
   ]
  },
  {
   "cell_type": "code",
   "execution_count": 10,
   "metadata": {},
   "outputs": [
    {
     "data": {
      "text/plain": [
       "102"
      ]
     },
     "execution_count": 10,
     "metadata": {},
     "output_type": "execute_result"
    }
   ],
   "source": [
    "data.c"
   ]
  },
  {
   "cell_type": "code",
   "execution_count": null,
   "metadata": {},
   "outputs": [],
   "source": []
  },
  {
   "cell_type": "code",
   "execution_count": 11,
   "metadata": {},
   "outputs": [
    {
     "data": {
      "text/html": [
       "<table border=\"1\" class=\"dataframe\">\n",
       "  <thead>\n",
       "    <tr style=\"text-align: left;\">\n",
       "      <th>epoch</th>\n",
       "      <th>train_loss</th>\n",
       "      <th>valid_loss</th>\n",
       "      <th>accuracy</th>\n",
       "      <th>time</th>\n",
       "    </tr>\n",
       "  </thead>\n",
       "  <tbody>\n",
       "    <tr>\n",
       "      <td>0</td>\n",
       "      <td>4.155524</td>\n",
       "      <td>3.066006</td>\n",
       "      <td>0.356674</td>\n",
       "      <td>00:15</td>\n",
       "    </tr>\n",
       "    <tr>\n",
       "      <td>1</td>\n",
       "      <td>3.352698</td>\n",
       "      <td>2.675470</td>\n",
       "      <td>0.405908</td>\n",
       "      <td>00:13</td>\n",
       "    </tr>\n",
       "  </tbody>\n",
       "</table>"
      ],
      "text/plain": [
       "<IPython.core.display.HTML object>"
      ]
     },
     "metadata": {},
     "output_type": "display_data"
    }
   ],
   "source": [
    "learn = cnn_learner(data,models.resnet50,metrics=accuracy)\n",
    "learn.fit_one_cycle(2)"
   ]
  },
  {
   "cell_type": "code",
   "execution_count": 12,
   "metadata": {},
   "outputs": [
    {
     "data": {
      "text/html": [
       "<table border=\"1\" class=\"dataframe\">\n",
       "  <thead>\n",
       "    <tr style=\"text-align: left;\">\n",
       "      <th>epoch</th>\n",
       "      <th>train_loss</th>\n",
       "      <th>valid_loss</th>\n",
       "      <th>accuracy</th>\n",
       "      <th>time</th>\n",
       "    </tr>\n",
       "  </thead>\n",
       "  <tbody>\n",
       "    <tr>\n",
       "      <td>0</td>\n",
       "      <td>3.056933</td>\n",
       "      <td>2.597389</td>\n",
       "      <td>0.415208</td>\n",
       "      <td>00:13</td>\n",
       "    </tr>\n",
       "    <tr>\n",
       "      <td>1</td>\n",
       "      <td>2.994745</td>\n",
       "      <td>2.452901</td>\n",
       "      <td>0.442013</td>\n",
       "      <td>00:13</td>\n",
       "    </tr>\n",
       "    <tr>\n",
       "      <td>2</td>\n",
       "      <td>2.724442</td>\n",
       "      <td>2.258565</td>\n",
       "      <td>0.473195</td>\n",
       "      <td>00:13</td>\n",
       "    </tr>\n",
       "    <tr>\n",
       "      <td>3</td>\n",
       "      <td>2.435910</td>\n",
       "      <td>2.115584</td>\n",
       "      <td>0.495077</td>\n",
       "      <td>00:13</td>\n",
       "    </tr>\n",
       "    <tr>\n",
       "      <td>4</td>\n",
       "      <td>2.285724</td>\n",
       "      <td>2.078333</td>\n",
       "      <td>0.504376</td>\n",
       "      <td>00:13</td>\n",
       "    </tr>\n",
       "  </tbody>\n",
       "</table>"
      ],
      "text/plain": [
       "<IPython.core.display.HTML object>"
      ]
     },
     "metadata": {},
     "output_type": "display_data"
    }
   ],
   "source": [
    "learn.fit_one_cycle(5)"
   ]
  },
  {
   "cell_type": "code",
   "execution_count": 13,
   "metadata": {},
   "outputs": [],
   "source": [
    "learn.save('stage-1')"
   ]
  },
  {
   "cell_type": "code",
   "execution_count": null,
   "metadata": {},
   "outputs": [],
   "source": []
  },
  {
   "cell_type": "markdown",
   "metadata": {},
   "source": [
    "## Results"
   ]
  },
  {
   "cell_type": "code",
   "execution_count": 14,
   "metadata": {},
   "outputs": [
    {
     "data": {
      "text/html": [],
      "text/plain": [
       "<IPython.core.display.HTML object>"
      ]
     },
     "metadata": {},
     "output_type": "display_data"
    }
   ],
   "source": [
    "interp = ClassificationInterpretation.from_learner(learn)"
   ]
  },
  {
   "cell_type": "code",
   "execution_count": 15,
   "metadata": {},
   "outputs": [
    {
     "data": {
      "image/png": "[encoded data removed]",
      "text/plain": [
       "<Figure size 1080x1080 with 9 Axes>"
      ]
     },
     "metadata": {
      "needs_background": "light"
     },
     "output_type": "display_data"
    }
   ],
   "source": [
    "interp.plot_top_losses(9,figsize=(15,15))"
   ]
  },
  {
   "cell_type": "code",
   "execution_count": null,
   "metadata": {},
   "outputs": [],
   "source": []
  },
  {
   "cell_type": "code",
   "execution_count": null,
   "metadata": {},
   "outputs": [],
   "source": []
  },
  {
   "cell_type": "code",
   "execution_count": 16,
   "metadata": {},
   "outputs": [],
   "source": [
    "learn.unfreeze()"
   ]
  },
  {
   "cell_type": "code",
   "execution_count": 17,
   "metadata": {},
   "outputs": [
    {
     "data": {
      "text/html": [
       "\n",
       "    <div>\n",
       "        <style>\n",
       "            /* Turns off some styling */\n",
       "            progress {\n",
       "                /* gets rid of default border in Firefox and Opera. */\n",
       "                border: none;\n",
       "                /* Needs to be in here for Safari polyfill so background images work as expected. */\n",
       "                background-size: auto;\n",
       "            }\n",
       "            .progress-bar-interrupted, .progress-bar-interrupted::-webkit-progress-bar {\n",
       "                background: #F44336;\n",
       "            }\n",
       "        </style>\n",
       "      <progress value='0' class='' max='1', style='width:300px; height:20px; vertical-align: middle;'></progress>\n",
       "      0.00% [0/1 00:00<00:00]\n",
       "    </div>\n",
       "    \n",
       "<table border=\"1\" class=\"dataframe\">\n",
       "  <thead>\n",
       "    <tr style=\"text-align: left;\">\n",
       "      <th>epoch</th>\n",
       "      <th>train_loss</th>\n",
       "      <th>valid_loss</th>\n",
       "      <th>accuracy</th>\n",
       "      <th>time</th>\n",
       "    </tr>\n",
       "  </thead>\n",
       "  <tbody>\n",
       "  </tbody>\n",
       "</table><p>\n",
       "\n",
       "    <div>\n",
       "        <style>\n",
       "            /* Turns off some styling */\n",
       "            progress {\n",
       "                /* gets rid of default border in Firefox and Opera. */\n",
       "                border: none;\n",
       "                /* Needs to be in here for Safari polyfill so background images work as expected. */\n",
       "                background-size: auto;\n",
       "            }\n",
       "            .progress-bar-interrupted, .progress-bar-interrupted::-webkit-progress-bar {\n",
       "                background: #F44336;\n",
       "            }\n",
       "        </style>\n",
       "      <progress value='87' class='' max='114', style='width:300px; height:20px; vertical-align: middle;'></progress>\n",
       "      76.32% [87/114 00:09<00:02 7.5982]\n",
       "    </div>\n",
       "    "
      ],
      "text/plain": [
       "<IPython.core.display.HTML object>"
      ]
     },
     "metadata": {},
     "output_type": "display_data"
    },
    {
     "name": "stdout",
     "output_type": "stream",
     "text": [
      "LR Finder is complete, type {learner_name}.recorder.plot() to see the graph.\n"
     ]
    }
   ],
   "source": [
    "learn.lr_find()"
   ]
  },
  {
   "cell_type": "code",
   "execution_count": 18,
   "metadata": {},
   "outputs": [
    {
     "data": {
      "image/png": "[encoded data removed]",
      "text/plain": [
       "<Figure size 432x288 with 1 Axes>"
      ]
     },
     "metadata": {
      "needs_background": "light"
     },
     "output_type": "display_data"
    }
   ],
   "source": [
    "learn.recorder.plot()"
   ]
  },
  {
   "cell_type": "code",
   "execution_count": 19,
   "metadata": {},
   "outputs": [
    {
     "data": {
      "text/html": [
       "<table border=\"1\" class=\"dataframe\">\n",
       "  <thead>\n",
       "    <tr style=\"text-align: left;\">\n",
       "      <th>epoch</th>\n",
       "      <th>train_loss</th>\n",
       "      <th>valid_loss</th>\n",
       "      <th>accuracy</th>\n",
       "      <th>time</th>\n",
       "    </tr>\n",
       "  </thead>\n",
       "  <tbody>\n",
       "    <tr>\n",
       "      <td>0</td>\n",
       "      <td>2.218432</td>\n",
       "      <td>2.073522</td>\n",
       "      <td>0.508206</td>\n",
       "      <td>00:13</td>\n",
       "    </tr>\n",
       "    <tr>\n",
       "      <td>1</td>\n",
       "      <td>2.177794</td>\n",
       "      <td>2.030562</td>\n",
       "      <td>0.510941</td>\n",
       "      <td>00:13</td>\n",
       "    </tr>\n",
       "    <tr>\n",
       "      <td>2</td>\n",
       "      <td>2.123414</td>\n",
       "      <td>1.981562</td>\n",
       "      <td>0.525164</td>\n",
       "      <td>00:13</td>\n",
       "    </tr>\n",
       "    <tr>\n",
       "      <td>3</td>\n",
       "      <td>2.047964</td>\n",
       "      <td>1.925667</td>\n",
       "      <td>0.535558</td>\n",
       "      <td>00:13</td>\n",
       "    </tr>\n",
       "    <tr>\n",
       "      <td>4</td>\n",
       "      <td>1.985034</td>\n",
       "      <td>1.875981</td>\n",
       "      <td>0.545405</td>\n",
       "      <td>00:13</td>\n",
       "    </tr>\n",
       "    <tr>\n",
       "      <td>5</td>\n",
       "      <td>1.921248</td>\n",
       "      <td>1.844278</td>\n",
       "      <td>0.548140</td>\n",
       "      <td>00:13</td>\n",
       "    </tr>\n",
       "    <tr>\n",
       "      <td>6</td>\n",
       "      <td>1.900652</td>\n",
       "      <td>1.821760</td>\n",
       "      <td>0.554158</td>\n",
       "      <td>00:13</td>\n",
       "    </tr>\n",
       "    <tr>\n",
       "      <td>7</td>\n",
       "      <td>1.838960</td>\n",
       "      <td>1.815732</td>\n",
       "      <td>0.551969</td>\n",
       "      <td>00:13</td>\n",
       "    </tr>\n",
       "    <tr>\n",
       "      <td>8</td>\n",
       "      <td>1.838891</td>\n",
       "      <td>1.798389</td>\n",
       "      <td>0.554158</td>\n",
       "      <td>00:13</td>\n",
       "    </tr>\n",
       "    <tr>\n",
       "      <td>9</td>\n",
       "      <td>1.796384</td>\n",
       "      <td>1.800393</td>\n",
       "      <td>0.553611</td>\n",
       "      <td>00:13</td>\n",
       "    </tr>\n",
       "  </tbody>\n",
       "</table>"
      ],
      "text/plain": [
       "<IPython.core.display.HTML object>"
      ]
     },
     "metadata": {},
     "output_type": "display_data"
    }
   ],
   "source": [
    "learn.unfreeze()\n",
    "learn.fit_one_cycle(10,max_lr=slice(1e-6,1e-4))"
   ]
  },
  {
   "cell_type": "code",
   "execution_count": 20,
   "metadata": {},
   "outputs": [],
   "source": [
    "learn.save('stage-2')"
   ]
  },
  {
   "cell_type": "code",
   "execution_count": null,
   "metadata": {},
   "outputs": [],
   "source": []
  },
  {
   "cell_type": "code",
   "execution_count": 22,
   "metadata": {},
   "outputs": [],
   "source": [
    "data = ImageDataBunch.from_folder(path,train='.',ds_tfms=get_transforms(),size=26,valid_pct=0.2,bs=16).normalize(imagenet_stats)"
   ]
  },
  {
   "cell_type": "code",
   "execution_count": 23,
   "metadata": {},
   "outputs": [
    {
     "name": "stderr",
     "output_type": "stream",
     "text": [
      "Downloading: \"https://download.pytorch.org/models/resnet152-b121ed2d.pth\" to /home/jupyter/.cache/torch/checkpoints/resnet152-b121ed2d.pth\n"
     ]
    },
    {
     "data": {
      "application/vnd.jupyter.widget-view+json": {
       "model_id": "0963190e02fc4933bf472ed31e3406e7",
       "version_major": 2,
       "version_minor": 0
      },
      "text/plain": [
       "HBox(children=(FloatProgress(value=0.0, max=241530880.0), HTML(value='')))"
      ]
     },
     "metadata": {},
     "output_type": "display_data"
    },
    {
     "name": "stdout",
     "output_type": "stream",
     "text": [
      "\n"
     ]
    },
    {
     "data": {
      "text/html": [
       "<table border=\"1\" class=\"dataframe\">\n",
       "  <thead>\n",
       "    <tr style=\"text-align: left;\">\n",
       "      <th>epoch</th>\n",
       "      <th>train_loss</th>\n",
       "      <th>valid_loss</th>\n",
       "      <th>accuracy</th>\n",
       "      <th>time</th>\n",
       "    </tr>\n",
       "  </thead>\n",
       "  <tbody>\n",
       "    <tr>\n",
       "      <td>0</td>\n",
       "      <td>4.255170</td>\n",
       "      <td>26.608032</td>\n",
       "      <td>0.273523</td>\n",
       "      <td>00:46</td>\n",
       "    </tr>\n",
       "    <tr>\n",
       "      <td>1</td>\n",
       "      <td>3.543215</td>\n",
       "      <td>13.233766</td>\n",
       "      <td>0.323304</td>\n",
       "      <td>00:46</td>\n",
       "    </tr>\n",
       "    <tr>\n",
       "      <td>2</td>\n",
       "      <td>2.998417</td>\n",
       "      <td>10.937462</td>\n",
       "      <td>0.391685</td>\n",
       "      <td>00:46</td>\n",
       "    </tr>\n",
       "    <tr>\n",
       "      <td>3</td>\n",
       "      <td>2.713185</td>\n",
       "      <td>3.932423</td>\n",
       "      <td>0.432166</td>\n",
       "      <td>00:46</td>\n",
       "    </tr>\n",
       "    <tr>\n",
       "      <td>4</td>\n",
       "      <td>2.630218</td>\n",
       "      <td>6.017027</td>\n",
       "      <td>0.429978</td>\n",
       "      <td>00:46</td>\n",
       "    </tr>\n",
       "  </tbody>\n",
       "</table>"
      ],
      "text/plain": [
       "<IPython.core.display.HTML object>"
      ]
     },
     "metadata": {},
     "output_type": "display_data"
    }
   ],
   "source": [
    "learn = cnn_learner(data,models.resnet152,metrics=accuracy)\n",
    "learn.fit_one_cycle(5)"
   ]
  },
  {
   "cell_type": "code",
   "execution_count": 24,
   "metadata": {},
   "outputs": [],
   "source": [
    "learn.save('stage-1-res152')"
   ]
  },
  {
   "cell_type": "code",
   "execution_count": null,
   "metadata": {},
   "outputs": [],
   "source": []
  }
 ],
 "metadata": {
  "kernelspec": {
   "display_name": "Python 3",
   "language": "python",
   "name": "python3"
  },
  "language_info": {
   "codemirror_mode": {
    "name": "ipython",
    "version": 3
   },
   "file_extension": ".py",
   "mimetype": "text/x-python",
   "name": "python",
   "nbconvert_exporter": "python",
   "pygments_lexer": "ipython3",
   "version": "3.7.4"
  }
 },
 "nbformat": 4,
 "nbformat_minor": 4
}
